{
  "nbformat": 4,
  "nbformat_minor": 0,
  "metadata": {
    "colab": {
      "name": "GTSRB.pynb",
      "provenance": [],
      "collapsed_sections": []
    },
    "kernelspec": {
      "display_name": "Python 3",
      "name": "python3"
    },
    "language_info": {
      "name": "python"
    }
  },
  "cells": [
    {
      "cell_type": "code",
      "metadata": {
        "id": "xczTcpfvzOkY"
      },
      "source": [
        "import os\n",
        "Root = \"/content/drive/MyDrive/Colab Notebooks/GTSRB/GTSRB_Project\"\n",
        "os.chdir(Root)\n"
      ],
      "execution_count": null,
      "outputs": []
    },
    {
      "cell_type": "code",
      "metadata": {
        "colab": {
          "base_uri": "https://localhost:8080/"
        },
        "id": "wVFqIerLzXT5",
        "outputId": "12230316-8bbd-45fa-cc4a-531d7f11c6d7"
      },
      "source": [
        "from google.colab import drive\n",
        "drive.mount('/content/drive')"
      ],
      "execution_count": null,
      "outputs": [
        {
          "output_type": "stream",
          "name": "stdout",
          "text": [
            "Mounted at /content/drive\n"
          ]
        }
      ]
    },
    {
      "cell_type": "markdown",
      "metadata": {
        "id": "Z4c-bWT2xsec"
      },
      "source": [
        "###Importing necessary libraries"
      ]
    },
    {
      "cell_type": "code",
      "metadata": {
        "id": "-U3P_b43x8Dt"
      },
      "source": [
        "import numpy as np\n",
        "import pandas as pd\n",
        "import os\n",
        "import matplotlib.pyplot as plt\n",
        "import seaborn as sns\n",
        "from PIL import Image\n",
        "\n",
        "from tensorflow.keras import models, layers\n",
        "from tensorflow.keras.utils import to_categorical\n",
        "from sklearn.model_selection import train_test_split\n",
        "from sklearn.metrics import confusion_matrix, accuracy_score"
      ],
      "execution_count": null,
      "outputs": []
    },
    {
      "cell_type": "markdown",
      "metadata": {
        "id": "mGjx2--1x-Sb"
      },
      "source": [
        "###Reading the Data"
      ]
    },
    {
      "cell_type": "code",
      "metadata": {
        "id": "cyywU8lxyBdn"
      },
      "source": [
        "imgs_path = \"/content/drive/MyDrive/Colab Notebooks/GTSRB/GTSRB_Project/Train\"\n",
        "data_list = []\n",
        "labels_list = []\n",
        "classes_list = 43\n",
        "for i in range(classes_list):\n",
        "    i_path = os.path.join(imgs_path, str(i)) #0-42\n",
        "    for img in os.listdir(i_path):\n",
        "        im = Image.open(i_path +'/'+ img)\n",
        "        im = im.resize((32,32))\n",
        "        im = np.array(im)\n",
        "        data_list.append(im)\n",
        "        labels_list.append(i)\n",
        "data = np.array(data_list)\n",
        "labels = np.array(labels_list)"
      ],
      "execution_count": null,
      "outputs": []
    },
    {
      "cell_type": "markdown",
      "metadata": {
        "id": "FuWwytIlyFuP"
      },
      "source": [
        "###Data Visualization"
      ]
    },
    {
      "cell_type": "code",
      "metadata": {
        "colab": {
          "base_uri": "https://localhost:8080/",
          "height": 195
        },
        "id": "ifdK1xUdMNeG",
        "outputId": "aa7fabab-c67e-48db-bea8-9ec83a9dd220"
      },
      "source": [
        "plt.figure(figsize = (12,12))\n",
        "\n",
        "for i in range(4) :\n",
        "    plt.subplot(1, 4, i+1)\n",
        "    plt.imshow(data[i], cmap='gray')\n",
        "\n",
        "plt.show()"
      ],
      "execution_count": null,
      "outputs": [
        {
          "output_type": "display_data",
          "data": {
            "image/png": "[encoded data removed]",
            "text/plain": [
              "<Figure size 864x864 with 4 Axes>"
            ]
          },
          "metadata": {
            "needs_background": "light"
          }
        }
      ]
    },
    {
      "cell_type": "markdown",
      "metadata": {
        "id": "rMFlM-hnMPPJ"
      },
      "source": [
        "###Preparing the Dataset"
      ]
    },
    {
      "cell_type": "code",
      "metadata": {
        "id": "CIg0E03SMXHt"
      },
      "source": [
        "def prep_dataset(X,y):\n",
        "    X_prep = X.astype('float32')\n",
        "    y_prep = to_categorical(np.array(y))\n",
        "    return (X_prep, y_prep)\n",
        "\n",
        "X, y = prep_dataset(data,labels)"
      ],
      "execution_count": null,
      "outputs": []
    },
    {
      "cell_type": "markdown",
      "metadata": {
        "id": "Lb7J_4bLMZtm"
      },
      "source": [
        "###Splitting the dataset"
      ]
    },
    {
      "cell_type": "code",
      "metadata": {
        "id": "lgq_45zvMe3C"
      },
      "source": [
        "X_train, X_val, Y_train, Y_val = train_test_split(X,y, test_size=0.2, shuffle=True,stratify=y)\n",
        "X_val, X_test, Y_val, Y_test = train_test_split(X_val,Y_val, test_size=0.5, shuffle=True)"
      ],
      "execution_count": null,
      "outputs": []
    },
    {
      "cell_type": "markdown",
      "metadata": {
        "id": "x8X6-ck3Mg7e"
      },
      "source": [
        "###**CNN Model**"
      ]
    },
    {
      "cell_type": "code",
      "metadata": {
        "colab": {
          "base_uri": "https://localhost:8080/"
        },
        "id": "z-tXUnLMMuu-",
        "outputId": "38896853-b79c-4b42-e082-8d21a61bbcad"
      },
      "source": [
        "model = models.Sequential() #Sequential Model\n",
        "\n",
        "#ConvLayer(64 filters) + MaxPooling + BatchNormalization + Dropout\n",
        "model.add(layers.Conv2D(filters=32,kernel_size=3,activation='relu',padding='same',input_shape=X.shape[1:]))\n",
        "model.add(layers.MaxPool2D(strides=2))\n",
        "model.add(layers.BatchNormalization())\n",
        "model.add(layers.Dropout(0.3))\n",
        "\n",
        "#ConvLayer(128 filters) + MaxPooling + BatchNormalization + Dropout\n",
        "model.add(layers.Conv2D(filters=128,kernel_size=3,activation='relu',padding='same'))\n",
        "model.add(layers.MaxPool2D(strides=2))\n",
        "model.add(layers.BatchNormalization())\n",
        "model.add(layers.Dropout(0.3))\n",
        "\n",
        "#ConvLayer(512 filters) + Dropout + ConvLayer(512 filters) + MaxPooling + BatchNormalization\n",
        "model.add(layers.Conv2D(filters=512,kernel_size=3,activation='relu',padding='same'))\n",
        "model.add(layers.Dropout(0.3))\n",
        "model.add(layers.Conv2D(filters=512,kernel_size=3,activation='relu',padding='same'))\n",
        "model.add(layers.MaxPool2D(strides=2))\n",
        "model.add(layers.BatchNormalization())\n",
        "\n",
        "#Flatten\n",
        "model.add(layers.Flatten())\n",
        "\n",
        "#2 Dense layers with 4000 hidden units\n",
        "model.add(layers.Dense(4000,activation='relu'))\n",
        "model.add(layers.Dense(4000,activation='relu'))\n",
        "\n",
        "#Dense layer with 1000 hidden units\n",
        "model.add(layers.Dense(1000,activation='relu'))\n",
        "\n",
        "#Softmax layer for output\n",
        "model.add(layers.Dense(43,activation='softmax'))\n",
        "\n",
        "model.summary()"
      ],
      "execution_count": null,
      "outputs": [
        {
          "name": "stdout",
          "output_type": "stream",
          "text": [
            "Model: \"sequential\"\n",
            "_________________________________________________________________\n",
            "Layer (type)                 Output Shape              Param #   \n",
            "=================================================================\n",
            "conv2d (Conv2D)              (None, 32, 32, 32)        896       \n",
            "_________________________________________________________________\n",
            "max_pooling2d (MaxPooling2D) (None, 16, 16, 32)        0         \n",
            "_________________________________________________________________\n",
            "batch_normalization (BatchNo (None, 16, 16, 32)        128       \n",
            "_________________________________________________________________\n",
            "dropout (Dropout)            (None, 16, 16, 32)        0         \n",
            "_________________________________________________________________\n",
            "conv2d_1 (Conv2D)            (None, 16, 16, 128)       36992     \n",
            "_________________________________________________________________\n",
            "max_pooling2d_1 (MaxPooling2 (None, 8, 8, 128)         0         \n",
            "_________________________________________________________________\n",
            "batch_normalization_1 (Batch (None, 8, 8, 128)         512       \n",
            "_________________________________________________________________\n",
            "dropout_1 (Dropout)          (None, 8, 8, 128)         0         \n",
            "_________________________________________________________________\n",
            "conv2d_2 (Conv2D)            (None, 8, 8, 512)         590336    \n",
            "_________________________________________________________________\n",
            "dropout_2 (Dropout)          (None, 8, 8, 512)         0         \n",
            "_________________________________________________________________\n",
            "conv2d_3 (Conv2D)            (None, 8, 8, 512)         2359808   \n",
            "_________________________________________________________________\n",
            "max_pooling2d_2 (MaxPooling2 (None, 4, 4, 512)         0         \n",
            "_________________________________________________________________\n",
            "batch_normalization_2 (Batch (None, 4, 4, 512)         2048      \n",
            "_________________________________________________________________\n",
            "flatten (Flatten)            (None, 8192)              0         \n",
            "_________________________________________________________________\n",
            "dense (Dense)                (None, 4000)              32772000  \n",
            "_________________________________________________________________\n",
            "dense_1 (Dense)              (None, 4000)              16004000  \n",
            "_________________________________________________________________\n",
            "dense_2 (Dense)              (None, 1000)              4001000   \n",
            "_________________________________________________________________\n",
            "dense_3 (Dense)              (None, 43)                43043     \n",
            "=================================================================\n",
            "Total params: 55,810,763\n",
            "Trainable params: 55,809,419\n",
            "Non-trainable params: 1,344\n",
            "_________________________________________________________________\n"
          ]
        }
      ]
    },
    {
      "cell_type": "markdown",
      "metadata": {
        "id": "7Q5InMlZM6HQ"
      },
      "source": [
        "###Fitting the Model"
      ]
    },
    {
      "cell_type": "code",
      "metadata": {
        "colab": {
          "base_uri": "https://localhost:8080/"
        },
        "id": "3YxfHo75M_kQ",
        "outputId": "0ebb7f45-3ef7-4941-d2e0-961fca6369e8"
      },
      "source": [
        "model.compile(optimizer='adam',\n",
        "             loss='categorical_crossentropy',\n",
        "             metrics=['accuracy'])\n",
        "\n",
        "history= model.fit(X_train,Y_train,\n",
        "                 epochs=4,\n",
        "                 batch_size=64,\n",
        "                 validation_data=(X_val,Y_val))"
      ],
      "execution_count": null,
      "outputs": [
        {
          "name": "stdout",
          "output_type": "stream",
          "text": [
            "Epoch 1/4\n",
            "491/491 [==============================] - 1262s 3s/step - loss: 1.4488 - accuracy: 0.5798 - val_loss: 0.2789 - val_accuracy: 0.9125\n",
            "Epoch 2/4\n",
            "491/491 [==============================] - 1251s 3s/step - loss: 0.2218 - accuracy: 0.9299 - val_loss: 0.0965 - val_accuracy: 0.9697\n",
            "Epoch 3/4\n",
            "491/491 [==============================] - 1243s 3s/step - loss: 0.1271 - accuracy: 0.9609 - val_loss: 0.0756 - val_accuracy: 0.9824\n",
            "Epoch 4/4\n",
            "491/491 [==============================] - 1238s 3s/step - loss: 0.0935 - accuracy: 0.9728 - val_loss: 0.0951 - val_accuracy: 0.9760\n"
          ]
        }
      ]
    },
    {
      "cell_type": "markdown",
      "metadata": {
        "id": "-QuYHhsnNA7U"
      },
      "source": [
        "###Visualisation of accuracy and loss"
      ]
    },
    {
      "cell_type": "code",
      "metadata": {
        "colab": {
          "base_uri": "https://localhost:8080/",
          "height": 680
        },
        "id": "DKocEV387zu2",
        "outputId": "34318273-ff85-41f0-8c0f-400bc5915e94"
      },
      "source": [
        "fig, ax=plt.subplots(2,1,figsize=(12,10))\n",
        "fig.suptitle('Train evaluation')\n",
        "\n",
        "sns.lineplot(ax= ax[0],x=np.arange(0,len(history.history['accuracy'])),y=history.history['accuracy'])\n",
        "sns.lineplot(ax= ax[0],x=np.arange(0,len(history.history['accuracy'])),y=history.history['val_accuracy'])\n",
        "\n",
        "ax[0].legend(['Train','Validation'])\n",
        "ax[0].set_title('Accuracy')\n",
        "\n",
        "sns.lineplot(ax= ax[1],x=np.arange(0,len(history.history['loss'])),y=history.history['loss'])\n",
        "sns.lineplot(ax= ax[1],x=np.arange(0,len(history.history['loss'])),y=history.history['val_loss'])\n",
        "\n",
        "ax[1].legend(['Train','Validation'])\n",
        "ax[1].set_title('Loss')"
      ],
      "execution_count": null,
      "outputs": [
        {
          "data": {
            "text/plain": [
              "Text(0.5, 1.0, 'Loss')"
            ]
          },
          "execution_count": 19,
          "metadata": {},
          "output_type": "execute_result"
        },
        {
          "data": {
            "image/png": "[encoded data removed]",
            "text/plain": [
              "<Figure size 864x720 with 2 Axes>"
            ]
          },
          "metadata": {},
          "output_type": "display_data"
        }
      ]
    },
    {
      "cell_type": "markdown",
      "metadata": {
        "id": "5NpgZfR872Ut"
      },
      "source": [
        "###Prediction and Evaluation"
      ]
    },
    {
      "cell_type": "code",
      "metadata": {
        "colab": {
          "base_uri": "https://localhost:8080/"
        },
        "id": "a21QF1Mh74c2",
        "outputId": "e2af39c2-90d4-4b21-d681-9280df9217cb"
      },
      "source": [
        "Y_test = np.argmax(Y_test,axis=1)\n",
        "\n",
        "Y_pred= model.predict(X_test)\n",
        "\n",
        "Y_pred = np.argmax(Y_pred, axis=1)\n",
        "\n",
        "print('-Acuracy achieved: {:.2f}%\\n-Accuracy by model was: {:.2f}%\\n-Accuracy by validation was: {:.2f}%'.\n",
        "      format(accuracy_score(Y_test,Y_pred)*100,(history.history['accuracy'][-1])*100,(history.history['val_accuracy'][-1])*100))"
      ],
      "execution_count": null,
      "outputs": [
        {
          "name": "stdout",
          "output_type": "stream",
          "text": [
            "-Acuracy achieved: 97.25%\n",
            "-Accuracy by model was: 97.28%\n",
            "-Accuracy by validation was: 97.60%\n"
          ]
        }
      ]
    }
  ]
}